{
  "nbformat": 4,
  "nbformat_minor": 0,
  "metadata": {
    "colab": {
      "provenance": []
    },
    "kernelspec": {
      "name": "python3",
      "display_name": "Python 3"
    },
    "language_info": {
      "name": "python"
    }
  },
  "cells": [
    {
      "cell_type": "markdown",
      "source": [
        "NUMBER\t\"NUMBER\"\tLiczba całkowita lub zmiennoprzecinkowa\n",
        "\n",
        "IDENTIFIER\t\"IDENTIFIER\"\tIdentyfikator (np. zmienne, nazwy funkcji)\n",
        "\n",
        "OPERATOR\t\"OPERATOR\"\tOperator arytmetyczny + - * / %\n",
        "\n",
        "COMPARISON\t\"COMPARISON\"\tOperator porównania == != < > <= >=\n",
        "\n",
        "ASSIGNMENT\t\"ASSIGNMENT\"\tOperator przypisania =\n",
        "\n",
        "LOGICAL\t\"LOGICAL\"\tOperator logiczny &&, !, ||\n",
        "\n",
        "LPAREN\t\"LPAREN\"\tLewy nawias (\n",
        "\n",
        "RPAREN\t\"RPAREN\"\tPrawy nawias )\n",
        "\n",
        "LBRACE\t\"LBRACE\"\tLewa klamra {\n",
        "\n",
        "RBRACE\t\"RBRACE\"\tPrawa klamra }\n",
        "\n",
        "SEMICOLON\t\"SEMICOLON\"\tŚrednik ;\n",
        "\n",
        "COMMA\t\"COMMA\"\tPrzecinek ,\n",
        "\n",
        "\n",
        "\n",
        "\n",
        "dokończyć ten słownik z tokenami, zrobić ten skaner przynajmniej dla operator, LP, RP, NUMBER"
      ],
      "metadata": {
        "id": "tQzUDKEPYrPI"
      }
    },
    {
      "cell_type": "code",
      "execution_count": null,
      "metadata": {
        "id": "rsvLqRWBSdlU"
      },
      "outputs": [],
      "source": [
        "##"
      ]
    },
    {
      "cell_type": "code",
      "source": [
        "example_input = \"2+3*(76+8/3)+ 3*(9-3)\""
      ],
      "metadata": {
        "id": "iYR3USLo8axL"
      },
      "execution_count": null,
      "outputs": []
    },
    {
      "cell_type": "code",
      "source": [
        "#funkcja do pomijania spacji\n",
        "def clean_spaces(input):\n",
        "  clean_input = \"\"\n",
        "  for letter in input:\n",
        "    if letter != \" \":\n",
        "      clean_input += letter\n",
        "  return clean_input\n"
      ],
      "metadata": {
        "id": "GJIHWNwN8Nji"
      },
      "execution_count": null,
      "outputs": []
    },
    {
      "cell_type": "code",
      "source": [
        "#funkcja do sprawdzania czy char jest liczbą\n",
        "def is_digit(char):\n",
        "    return '0' <= char <= '9'\n",
        "\n",
        "def is_letter(char):\n",
        "    return 'a' <= char <= 'z'"
      ],
      "metadata": {
        "id": "WwGD-38nAHdP"
      },
      "execution_count": null,
      "outputs": []
    },
    {
      "cell_type": "code",
      "source": [
        "#funkcja do sprawdzania czy token jest liczbą\n",
        "\"\"\"def is_integer(token):\n",
        "    if not is_digit(token[-1]):\n",
        "        return False\n",
        "    for char in token:\n",
        "        if not is_digit(char):\n",
        "            return False\n",
        "    return True\"\"\"\n",
        "def is_integer(lexeme):\n",
        "    #if not lexeme[0] in ('-', '+') and not is_digit(lexeme[0]):\n",
        "    if not is_digit(lexeme[0]):\n",
        "        return False\n",
        "    for l in lexeme[1:]:\n",
        "        if not is_digit(l):\n",
        "            return False\n",
        "    return True"
      ],
      "metadata": {
        "id": "fdiV3_pBK0Fh"
      },
      "execution_count": null,
      "outputs": []
    },
    {
      "cell_type": "code",
      "source": [
        "#funkcja do sprawdzania czy token należy do słów kluczowych\n",
        "def is_ident(token):\n",
        "    return token in [\"def\", \"return\", \"if\", \"else\"];"
      ],
      "metadata": {
        "id": "4jk9nQ5QHBz3"
      },
      "execution_count": null,
      "outputs": []
    },
    {
      "cell_type": "code",
      "source": [
        "value = {\"+\": (\"Operator\", \"Plus\"),\n",
        "         \"-\": (\"Operator\", \"Minus\"),\n",
        "         \"*\" : (\"Operator\", \"Mnozenie\"),\n",
        "         \"/\" : (\"Operator\", \"Dzielenie\"),\n",
        "         \"(\" : (\"LPAREN\", \"Lewy nawias\"),\n",
        "         \")\" : (\"RPAREN\", \"Prawy nawias\"),\n",
        "         \"{\" : (\"LBRACE\", \"Lewa klamra\"),\n",
        "         \"}\" : (\"RBRACE\", \"Prawa klamra\"),\n",
        "         \"=\" : (\"ASSIGNMENT\", \"Operator przypisania\"),\n",
        "         \"==\" : (\"COMPARISON\", \"Operator porównania\"),\n",
        "         \"!=\" : (\"COMPARISON\", \"Operator różności\"),\n",
        "         \"<\" : (\"COMPARISON\", \"Operator mniejszości\"),\n",
        "         \">\" : (\"COMPARISON\", \"Operator większości\"),\n",
        "         \"<=\" : (\"COMPARISON\", \"Operator mniejszości równości\"),\n",
        "         \">=\" : (\"COMPARISON\", \"Operator większości równości\"),\n",
        "         \"&&\" : (\"LOGICAL\", \"Operator logiczny and\"),\n",
        "         \"||\" : (\"LOGICAL\", \"Operator logiczny or\")}"
      ],
      "metadata": {
        "id": "mrTyhnongaUh"
      },
      "execution_count": null,
      "outputs": []
    },
    {
      "cell_type": "code",
      "source": [
        "def is_token(lexeme, letter_ind):\n",
        "  if lexeme in value:\n",
        "    (t1, t2) = value[lexeme]\n",
        "    return [t1, t2, letter_ind]\n",
        "  else:\n",
        "    #return - zależy czy liczba, czy identyfikator?\n",
        "    if is_integer(lexeme):\n",
        "      return [\"NUMBER\", lexeme, letter_ind]\n",
        "    if is_ident(lexeme):\n",
        "      return [\"IDENTIFIER\", lexeme, letter_ind]"
      ],
      "metadata": {
        "id": "vIizTQgYdyK1"
      },
      "execution_count": null,
      "outputs": []
    },
    {
      "cell_type": "code",
      "source": [
        "def scanner(line, p):\n",
        "  if p == len(line) - 1:\n",
        "    if is_token(line[p], p) is not None:\n",
        "      return is_token(line[p], p + 1)\n",
        "    else:\n",
        "      #jak nie jest ani operatorem ani liczbą ani identifier to zwroc komunikat błędu\n",
        "      return [\"ERROR\", line[p], p + 1]\n",
        "  token_builder = \"\"\n",
        "  token = False\n",
        "  for letter_ind in range(p, len(line)):\n",
        "    if (token_builder + line[letter_ind]) not in value and not (is_integer(token_builder + line[letter_ind]) or is_ident(token_builder + line[letter_ind])) and token:\n",
        "      if is_token(token_builder, letter_ind) is not None:\n",
        "        return is_token(token_builder, letter_ind)\n",
        "\n",
        "    elif letter_ind < len(line):\n",
        "      token_builder += line[letter_ind]\n",
        "      if letter_ind == len(line) - 1 and not token and (is_token(token_builder + line[letter_ind], letter_ind) in (None, False)):\n",
        "        #jak nie jest ani operatorem ani liczbą ani identifier to zwroc komunikat błędu\n",
        "        return [\"ERROR\", token_builder, letter_ind + 1]\n",
        "    else:\n",
        "      #jak nie jest ani operatorem ani liczbą ani identifier to zwroc komunikat błędu\n",
        "      return [\"ERROR\", token_builder, letter_ind]\n",
        "\n",
        "    if token_builder in value or (is_integer(token_builder) or is_ident(token_builder)):\n",
        "      token = True\n"
      ],
      "metadata": {
        "id": "w38n23W1dWkA"
      },
      "execution_count": null,
      "outputs": []
    },
    {
      "cell_type": "code",
      "source": [
        "# z stdin tak jak powinno być\n",
        "from sys import stdin\n",
        "\n",
        "for line in stdin:\n",
        "  line = clean_spaces(line)\n",
        "  p = 0\n",
        "  while p < len(line):\n",
        "    kwp = scanner(line, p) # k - klucz, w- wartość, p - indeks początku skanowania linii\n",
        "    print(\"   \", kwp[0], kwp[1])\n",
        "    p = kwp[2]"
      ],
      "metadata": {
        "id": "FOY6PTKJcWg0"
      },
      "execution_count": null,
      "outputs": []
    },
    {
      "cell_type": "code",
      "source": [
        "#nie z stdin tylko z zdefiniowamego stringa\n",
        "\n",
        "line = clean_spaces(example_input)\n",
        "p = 0\n",
        "while p < len(line):\n",
        "  kwp = scanner(line, p) #k - klucz w- wartość\n",
        "  print(\"   \", kwp[0], kwp[1])\n",
        "  p = kwp[2]"
      ],
      "metadata": {
        "colab": {
          "base_uri": "https://localhost:8080/"
        },
        "id": "9-KmNNqRSfNB",
        "outputId": "36e128c9-0952-4b5e-851b-54aef367d6e8"
      },
      "execution_count": null,
      "outputs": [
        {
          "output_type": "stream",
          "name": "stdout",
          "text": [
            "    NUMBER 2\n",
            "    Operator Plus\n",
            "    NUMBER 3\n",
            "    Operator Mnozenie\n",
            "    LPAREN Lewy nawias\n",
            "    NUMBER 76\n",
            "    Operator Plus\n",
            "    NUMBER 8\n",
            "    Operator Dzielenie\n",
            "    NUMBER 3\n",
            "    RPAREN Prawy nawias\n",
            "    Operator Plus\n",
            "    NUMBER 3\n",
            "    Operator Mnozenie\n",
            "    LPAREN Lewy nawias\n",
            "    NUMBER 9\n",
            "    Operator Minus\n",
            "    NUMBER 3\n",
            "    RPAREN Prawy nawias\n"
          ]
        }
      ]
    }
  ]
}